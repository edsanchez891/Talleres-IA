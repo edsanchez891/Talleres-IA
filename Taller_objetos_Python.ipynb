{
  "nbformat": 4,
  "nbformat_minor": 0,
  "metadata": {
    "colab": {
      "provenance": []
    },
    "kernelspec": {
      "name": "python3",
      "display_name": "Python 3"
    },
    "language_info": {
      "name": "python"
    }
  },
  "cells": [
    {
      "cell_type": "markdown",
      "source": [
        "# Taller_objetos_Python\n",
        "\n",
        "### Edgardo Sanchez"
      ],
      "metadata": {
        "id": "LMsCVNQSCN4m"
      }
    },
    {
      "cell_type": "markdown",
      "source": [
        "1) ¿Cuál de los siguientes NO es un tipo de objeto básico en Python?"
      ],
      "metadata": {
        "id": "IV_BLqVACZrq"
      }
    },
    {
      "cell_type": "markdown",
      "source": [
        "R// D. Las funciones matematicas no es un tipo basico."
      ],
      "metadata": {
        "id": "Sc8aC59oC1u4"
      }
    },
    {
      "cell_type": "markdown",
      "source": [
        "2. En Python, los valores True y False pertenencen al tipo:"
      ],
      "metadata": {
        "id": "S-sFUhI0EDjm"
      }
    },
    {
      "cell_type": "markdown",
      "source": [
        "R// B. Son tipos boleanos."
      ],
      "metadata": {
        "id": "5T6NfebKEPo7"
      }
    },
    {
      "cell_type": "markdown",
      "source": [
        "3. ¿Cuál de los siguientes objetos se considera un tipo numerico en Python?"
      ],
      "metadata": {
        "id": "5slhE7UVEWZ_"
      }
    },
    {
      "cell_type": "markdown",
      "source": [
        "R// A. Los tipos numericos son: int, float y complex."
      ],
      "metadata": {
        "id": "Y5bCdcIRFYfy"
      }
    },
    {
      "cell_type": "markdown",
      "source": [
        "4. ¿Qué imprime este código?\n",
        "\n",
        "  x = (1, 2, 3)\n",
        "  \n",
        "  print(x[1])\n"
      ],
      "metadata": {
        "id": "YAaTN4leFnAK"
      }
    },
    {
      "cell_type": "code",
      "source": [
        "x = (1, 2, 3)\n",
        "print(x[1])"
      ],
      "metadata": {
        "colab": {
          "base_uri": "https://localhost:8080/"
        },
        "id": "Tm81WbeKHqGd",
        "outputId": "e424fedb-a702-4cd8-881a-89074a710d78"
      },
      "execution_count": null,
      "outputs": [
        {
          "output_type": "stream",
          "name": "stdout",
          "text": [
            "2\n"
          ]
        }
      ]
    },
    {
      "cell_type": "markdown",
      "source": [
        "R// B. La respuesta es 2 para el codigo dado."
      ],
      "metadata": {
        "id": "-Wq3DQMTFwkP"
      }
    },
    {
      "cell_type": "markdown",
      "source": [
        "5. ¿Cuál es el error en este código?\n",
        "\n",
        "t = (1, 2, 3)\n",
        "\n",
        "t[0] = 10"
      ],
      "metadata": {
        "id": "SikqpsQBIReG"
      }
    },
    {
      "cell_type": "code",
      "source": [
        "t = (1, 2, 3)\n",
        "t[0] = 10"
      ],
      "metadata": {
        "colab": {
          "base_uri": "https://localhost:8080/",
          "height": 159
        },
        "collapsed": true,
        "id": "2lOFk49_ImV_",
        "outputId": "2fd9e146-283b-4996-9648-c619ecbd40f6"
      },
      "execution_count": 2,
      "outputs": [
        {
          "output_type": "error",
          "ename": "TypeError",
          "evalue": "'tuple' object does not support item assignment",
          "traceback": [
            "\u001b[0;31m---------------------------------------------------------------------------\u001b[0m",
            "\u001b[0;31mTypeError\u001b[0m                                 Traceback (most recent call last)",
            "\u001b[0;32m/tmp/ipython-input-4224094789.py\u001b[0m in \u001b[0;36m<cell line: 0>\u001b[0;34m()\u001b[0m\n\u001b[1;32m      1\u001b[0m \u001b[0mt\u001b[0m \u001b[0;34m=\u001b[0m \u001b[0;34m(\u001b[0m\u001b[0;36m1\u001b[0m\u001b[0;34m,\u001b[0m \u001b[0;36m2\u001b[0m\u001b[0;34m,\u001b[0m \u001b[0;36m3\u001b[0m\u001b[0;34m)\u001b[0m\u001b[0;34m\u001b[0m\u001b[0;34m\u001b[0m\u001b[0m\n\u001b[0;32m----> 2\u001b[0;31m \u001b[0mt\u001b[0m\u001b[0;34m[\u001b[0m\u001b[0;36m0\u001b[0m\u001b[0;34m]\u001b[0m \u001b[0;34m=\u001b[0m \u001b[0;36m10\u001b[0m\u001b[0;34m\u001b[0m\u001b[0;34m\u001b[0m\u001b[0m\n\u001b[0m",
            "\u001b[0;31mTypeError\u001b[0m: 'tuple' object does not support item assignment"
          ]
        }
      ]
    },
    {
      "cell_type": "markdown",
      "source": [
        "R// C. Las tuplas son inmutables, no se puede asignar t[0] = 10."
      ],
      "metadata": {
        "id": "70sR4f2cI7vN"
      }
    },
    {
      "cell_type": "markdown",
      "source": [
        "6. ¿Qué resultado produce?\n",
        "\n",
        "s = {1, 2, 2, 3, 3}\n",
        "\n",
        "print(s)"
      ],
      "metadata": {
        "id": "GdIyFIyOJO1s"
      }
    },
    {
      "cell_type": "code",
      "source": [
        "s = {1, 2, 2, 3, 3}\n",
        "print(s)"
      ],
      "metadata": {
        "colab": {
          "base_uri": "https://localhost:8080/"
        },
        "id": "rhI9mgl3JoHO",
        "outputId": "25128c86-255d-4b56-9dea-e12369f4e004"
      },
      "execution_count": 3,
      "outputs": [
        {
          "output_type": "stream",
          "name": "stdout",
          "text": [
            "{1, 2, 3}\n"
          ]
        }
      ]
    },
    {
      "cell_type": "markdown",
      "source": [
        "R// B. La respuesta es la B para este set debido a que se eliminan los duplicados."
      ],
      "metadata": {
        "id": "pdlZpR5mJFcS"
      }
    },
    {
      "cell_type": "markdown",
      "source": [
        "7. ¿Cuál es la salida?\n",
        "\n",
        "palabra = \"Mundo\"\n",
        "\n",
        "print(palabra[1:4])"
      ],
      "metadata": {
        "id": "kpUkaOE9J3H3"
      }
    },
    {
      "cell_type": "code",
      "source": [
        "palabra = \"Mundo\"\n",
        "print(palabra[1:4])"
      ],
      "metadata": {
        "colab": {
          "base_uri": "https://localhost:8080/"
        },
        "id": "STpxmZMgI6mD",
        "outputId": "300f4b5b-1941-4676-d16d-3a5cb22bffd4"
      },
      "execution_count": 4,
      "outputs": [
        {
          "output_type": "stream",
          "name": "stdout",
          "text": [
            "und\n"
          ]
        }
      ]
    },
    {
      "cell_type": "markdown",
      "source": [
        "R// C. Para el print asignado la respuesta es \"und\"."
      ],
      "metadata": {
        "id": "_GCJGTCzKlOy"
      }
    },
    {
      "cell_type": "markdown",
      "source": [
        "8. ¿Qué imprime?\n",
        "\n",
        "lista = [10, 20, 30]\n",
        "\n",
        "lista.append(40)\n",
        "\n",
        "print(lista)"
      ],
      "metadata": {
        "id": "kTEXWrRRKwL4"
      }
    },
    {
      "cell_type": "code",
      "source": [
        "lista = [10, 20, 30]\n",
        "lista.append(40)\n",
        "print(lista)"
      ],
      "metadata": {
        "colab": {
          "base_uri": "https://localhost:8080/"
        },
        "id": "i0AecxGRK0dX",
        "outputId": "8d89af32-5b4e-4f0e-c59d-21866478d095"
      },
      "execution_count": 5,
      "outputs": [
        {
          "output_type": "stream",
          "name": "stdout",
          "text": [
            "[10, 20, 30, 40]\n"
          ]
        }
      ]
    },
    {
      "cell_type": "markdown",
      "source": [
        "R// B. Agregando el 40 la lista queda [10, 20, 30, 40]."
      ],
      "metadata": {
        "id": "v-BpddKkK-mj"
      }
    },
    {
      "cell_type": "markdown",
      "source": [
        "9. ¿Qué ocurre?\n",
        "\n",
        "  dic = {\"a\": 1, \"b\": 2}\n",
        "  \n",
        "  print(dic[\"c\"])"
      ],
      "metadata": {
        "id": "8IMAz1kaLKgt"
      }
    },
    {
      "cell_type": "code",
      "source": [
        "dic = {\"a\": 1, \"b\": 2}\n",
        "print(dic[\"c\"])"
      ],
      "metadata": {
        "collapsed": true,
        "colab": {
          "base_uri": "https://localhost:8080/",
          "height": 159
        },
        "id": "wP6EuKYBLWEK",
        "outputId": "3dae016f-ce4f-4309-94e0-40ab5518f3b4"
      },
      "execution_count": 6,
      "outputs": [
        {
          "output_type": "error",
          "ename": "KeyError",
          "evalue": "'c'",
          "traceback": [
            "\u001b[0;31m---------------------------------------------------------------------------\u001b[0m",
            "\u001b[0;31mKeyError\u001b[0m                                  Traceback (most recent call last)",
            "\u001b[0;32m/tmp/ipython-input-719161587.py\u001b[0m in \u001b[0;36m<cell line: 0>\u001b[0;34m()\u001b[0m\n\u001b[1;32m      1\u001b[0m \u001b[0mdic\u001b[0m \u001b[0;34m=\u001b[0m \u001b[0;34m{\u001b[0m\u001b[0;34m\"a\"\u001b[0m\u001b[0;34m:\u001b[0m \u001b[0;36m1\u001b[0m\u001b[0;34m,\u001b[0m \u001b[0;34m\"b\"\u001b[0m\u001b[0;34m:\u001b[0m \u001b[0;36m2\u001b[0m\u001b[0;34m}\u001b[0m\u001b[0;34m\u001b[0m\u001b[0;34m\u001b[0m\u001b[0m\n\u001b[0;32m----> 2\u001b[0;31m \u001b[0mprint\u001b[0m\u001b[0;34m(\u001b[0m\u001b[0mdic\u001b[0m\u001b[0;34m[\u001b[0m\u001b[0;34m\"c\"\u001b[0m\u001b[0;34m]\u001b[0m\u001b[0;34m)\u001b[0m\u001b[0;34m\u001b[0m\u001b[0;34m\u001b[0m\u001b[0m\n\u001b[0m",
            "\u001b[0;31mKeyError\u001b[0m: 'c'"
          ]
        }
      ]
    },
    {
      "cell_type": "markdown",
      "source": [
        "R// C. Lanza error debido a que no existe la llave."
      ],
      "metadata": {
        "id": "vzCAT-aRLZkK"
      }
    },
    {
      "cell_type": "markdown",
      "source": [
        "10. Elige la opción correcta para obtener el valor 3 de este diccionario:\n",
        "\n",
        "  d = {\"x\": 1, \"y\": 2, \"z\": 3}"
      ],
      "metadata": {
        "id": "MopBnfWALmUz"
      }
    },
    {
      "cell_type": "code",
      "source": [
        "d = {\"x\": 1, \"y\": 2, \"z\": 3}\n",
        "print(d[\"z\"])"
      ],
      "metadata": {
        "colab": {
          "base_uri": "https://localhost:8080/"
        },
        "id": "nQoB6cS6Lu22",
        "outputId": "6cecedcf-c2df-4a8e-9880-2990451830b9"
      },
      "execution_count": 7,
      "outputs": [
        {
          "output_type": "stream",
          "name": "stdout",
          "text": [
            "3\n"
          ]
        }
      ]
    },
    {
      "cell_type": "markdown",
      "source": [
        "R// A. Con print(d[\"z\"]) se obtine el valor 3."
      ],
      "metadata": {
        "id": "SnMSZP1KL01k"
      }
    },
    {
      "cell_type": "markdown",
      "source": [
        "11. ¿Qué devuelve este código?\n",
        "\n",
        "  print(type(3.0))"
      ],
      "metadata": {
        "id": "dkcTFnfrL8Sl"
      }
    },
    {
      "cell_type": "code",
      "source": [
        "print(type(3.0))"
      ],
      "metadata": {
        "colab": {
          "base_uri": "https://localhost:8080/"
        },
        "id": "V-z-gHFGMEZW",
        "outputId": "22535ba3-3133-48da-9f26-4e91421a44b0"
      },
      "execution_count": 8,
      "outputs": [
        {
          "output_type": "stream",
          "name": "stdout",
          "text": [
            "<class 'float'>\n"
          ]
        }
      ]
    },
    {
      "cell_type": "markdown",
      "source": [
        "R// B. El codigo imprime que el tipo es un float."
      ],
      "metadata": {
        "id": "ZrqEqeWvMJDa"
      }
    },
    {
      "cell_type": "markdown",
      "source": [
        "12. ¿Cuál es el resultado?\n",
        "\n",
        "  x = [1, 2, 3]\n",
        "\n",
        "  y = x\n",
        "\n",
        "  y.append(4)\n",
        "  \n",
        "  print(x)"
      ],
      "metadata": {
        "id": "ZiHC3sAwNBI-"
      }
    },
    {
      "cell_type": "code",
      "source": [
        "x = [1, 2, 3]\n",
        "y = x\n",
        "y.append(4)\n",
        "print(x)"
      ],
      "metadata": {
        "colab": {
          "base_uri": "https://localhost:8080/"
        },
        "id": "5s-5mXDjNMJI",
        "outputId": "7e32640b-1be5-4a74-86a1-8a1e9c528dac"
      },
      "execution_count": 9,
      "outputs": [
        {
          "output_type": "stream",
          "name": "stdout",
          "text": [
            "[1, 2, 3, 4]\n"
          ]
        }
      ]
    },
    {
      "cell_type": "markdown",
      "source": [
        "R// B. Debido a que las listas quedan asignadas por referencia, x = [1, 2, 3, 4]."
      ],
      "metadata": {
        "id": "DSEfLy3BNf2p"
      }
    },
    {
      "cell_type": "markdown",
      "source": [
        "13. numeros = [\"10\", \"20\", \"30\"]\n",
        "\n",
        "  resultado = \",\".join(numeros)\n",
        "  \n",
        "  El valor de resultado será:"
      ],
      "metadata": {
        "id": "VDHPHW69NqJU"
      }
    },
    {
      "cell_type": "code",
      "source": [
        "numeros = [\"10\", \"20\", \"30\"]\n",
        "resultado = \",\".join(numeros)\n",
        "print(resultado)"
      ],
      "metadata": {
        "colab": {
          "base_uri": "https://localhost:8080/"
        },
        "id": "NcDQqAiiNzjL",
        "outputId": "f31e28ba-3e1a-4acd-ed41-1c75cdc0f73e"
      },
      "execution_count": 10,
      "outputs": [
        {
          "output_type": "stream",
          "name": "stdout",
          "text": [
            "10,20,30\n"
          ]
        }
      ]
    },
    {
      "cell_type": "markdown",
      "source": [
        "R// B. Lo convierte a 10,20,30."
      ],
      "metadata": {
        "id": "cFbhuSwNN5YH"
      }
    },
    {
      "cell_type": "markdown",
      "source": [
        "14. Completa el código para convertir un conjunto a lista:\n",
        "\n",
        "  s = {1, 2, 3}"
      ],
      "metadata": {
        "id": "UV77w2LJN_tK"
      }
    },
    {
      "cell_type": "code",
      "source": [
        "s = {1, 2, 3}\n",
        "list(s)"
      ],
      "metadata": {
        "colab": {
          "base_uri": "https://localhost:8080/"
        },
        "id": "G8S1D16JOFTr",
        "outputId": "78f0cd1f-d454-4c60-a7b7-7f829eb89134"
      },
      "execution_count": 11,
      "outputs": [
        {
          "output_type": "execute_result",
          "data": {
            "text/plain": [
              "[1, 2, 3]"
            ]
          },
          "metadata": {},
          "execution_count": 11
        }
      ]
    },
    {
      "cell_type": "markdown",
      "source": [
        "R// A. El codigo list(s) convierte el conjunto a lista."
      ],
      "metadata": {
        "id": "JCknaexjOOqq"
      }
    },
    {
      "cell_type": "markdown",
      "source": [
        "15. ¿Cuál es la salida?\n",
        "\n",
        "  cadena = \"Hola\"\n",
        "  \n",
        "  print(cadena * 3)"
      ],
      "metadata": {
        "id": "MsaV6TE7Oatx"
      }
    },
    {
      "cell_type": "code",
      "source": [
        "cadena = \"Hola\"\n",
        "print(cadena * 3)"
      ],
      "metadata": {
        "colab": {
          "base_uri": "https://localhost:8080/"
        },
        "id": "6iW7dnOzOgdl",
        "outputId": "d1d2cd27-14de-4e88-9a4f-31199f5eb498"
      },
      "execution_count": 13,
      "outputs": [
        {
          "output_type": "stream",
          "name": "stdout",
          "text": [
            "HolaHolaHola\n"
          ]
        }
      ]
    },
    {
      "cell_type": "markdown",
      "source": [
        "R// B. Al multiplicarlo por tres queda \"HolaHolaHola\".\n"
      ],
      "metadata": {
        "id": "BSDR3xzPOkXX"
      }
    },
    {
      "cell_type": "markdown",
      "source": [
        "16. ¿Qué valor imprime?\n",
        "\n",
        "lista = [10, 20, 30]\n",
        "\n",
        "print(lista[-1])"
      ],
      "metadata": {
        "id": "DnNbNClfOyXG"
      }
    },
    {
      "cell_type": "code",
      "source": [
        "lista = [10, 20, 30]\n",
        "print(lista[-1])"
      ],
      "metadata": {
        "colab": {
          "base_uri": "https://localhost:8080/"
        },
        "id": "No6RypkOO2js",
        "outputId": "7075b67e-e010-4e43-db76-492dbc3b4812"
      },
      "execution_count": 14,
      "outputs": [
        {
          "output_type": "stream",
          "name": "stdout",
          "text": [
            "30\n"
          ]
        }
      ]
    },
    {
      "cell_type": "markdown",
      "source": [
        "R// C. El print(lista[-1]) trae el 30."
      ],
      "metadata": {
        "id": "v99raUU6O7tw"
      }
    },
    {
      "cell_type": "markdown",
      "source": [
        "17. precios = [1200, 500, 3400, 800]\n",
        "\n",
        "precios.sort()\n",
        "\n",
        "  \n",
        "¿Qué contendrá precios después de ejecutar el código?"
      ],
      "metadata": {
        "id": "2e_m4E85PB7P"
      }
    },
    {
      "cell_type": "code",
      "source": [
        "precios = [1200, 500, 3400, 800]\n",
        "precios.sort()\n",
        "print(precios)"
      ],
      "metadata": {
        "colab": {
          "base_uri": "https://localhost:8080/"
        },
        "id": "FVhH3jt4PNYa",
        "outputId": "4d28f489-6ceb-4f15-bf3b-cf2c8152693f"
      },
      "execution_count": 18,
      "outputs": [
        {
          "output_type": "stream",
          "name": "stdout",
          "text": [
            "[500, 800, 1200, 3400]\n"
          ]
        }
      ]
    },
    {
      "cell_type": "markdown",
      "source": [
        "R// A. El .sort organiza la lista, [500, 800, 1200, 3400]."
      ],
      "metadata": {
        "id": "96V-FQLMPkSI"
      }
    },
    {
      "cell_type": "markdown",
      "source": [
        "18. ¿Cuál es el error?\n",
        "\n",
        "conjunto = {1, 2, 3}\n",
        "\n",
        "print(conjunto[0])\n"
      ],
      "metadata": {
        "id": "G0zwKtQoPs_L"
      }
    },
    {
      "cell_type": "code",
      "source": [
        "conjunto = {1, 2, 3}\n",
        "\n",
        "print(conjunto[0])"
      ],
      "metadata": {
        "colab": {
          "base_uri": "https://localhost:8080/",
          "height": 176
        },
        "collapsed": true,
        "id": "wf1bTJRaPzpG",
        "outputId": "83fb45dd-15be-4b63-9a45-117560cfb788"
      },
      "execution_count": 19,
      "outputs": [
        {
          "output_type": "error",
          "ename": "TypeError",
          "evalue": "'set' object is not subscriptable",
          "traceback": [
            "\u001b[0;31m---------------------------------------------------------------------------\u001b[0m",
            "\u001b[0;31mTypeError\u001b[0m                                 Traceback (most recent call last)",
            "\u001b[0;32m/tmp/ipython-input-1449953288.py\u001b[0m in \u001b[0;36m<cell line: 0>\u001b[0;34m()\u001b[0m\n\u001b[1;32m      1\u001b[0m \u001b[0mconjunto\u001b[0m \u001b[0;34m=\u001b[0m \u001b[0;34m{\u001b[0m\u001b[0;36m1\u001b[0m\u001b[0;34m,\u001b[0m \u001b[0;36m2\u001b[0m\u001b[0;34m,\u001b[0m \u001b[0;36m3\u001b[0m\u001b[0;34m}\u001b[0m\u001b[0;34m\u001b[0m\u001b[0;34m\u001b[0m\u001b[0m\n\u001b[1;32m      2\u001b[0m \u001b[0;34m\u001b[0m\u001b[0m\n\u001b[0;32m----> 3\u001b[0;31m \u001b[0mprint\u001b[0m\u001b[0;34m(\u001b[0m\u001b[0mconjunto\u001b[0m\u001b[0;34m[\u001b[0m\u001b[0;36m0\u001b[0m\u001b[0;34m]\u001b[0m\u001b[0;34m)\u001b[0m\u001b[0;34m\u001b[0m\u001b[0;34m\u001b[0m\u001b[0m\n\u001b[0m",
            "\u001b[0;31mTypeError\u001b[0m: 'set' object is not subscriptable"
          ]
        }
      ]
    },
    {
      "cell_type": "markdown",
      "source": [
        "R// A. Los conjuntos no son indexables."
      ],
      "metadata": {
        "id": "GPZgZZcXP72C"
      }
    },
    {
      "cell_type": "markdown",
      "source": [
        "19. ¿Qué devuelve?\n",
        "\n",
        "len({\"a\": 1, \"b\": 2, \"c\": 3})"
      ],
      "metadata": {
        "id": "QQfB_F8FQFfY"
      }
    },
    {
      "cell_type": "code",
      "source": [
        "len({\"a\": 1, \"b\": 2, \"c\": 3})"
      ],
      "metadata": {
        "colab": {
          "base_uri": "https://localhost:8080/"
        },
        "id": "aFVLQ1uSQJq-",
        "outputId": "160672e9-194d-494b-ffec-d550a70877ec"
      },
      "execution_count": 20,
      "outputs": [
        {
          "output_type": "execute_result",
          "data": {
            "text/plain": [
              "3"
            ]
          },
          "metadata": {},
          "execution_count": 20
        }
      ]
    },
    {
      "cell_type": "markdown",
      "source": [
        "R// B. El len cuenta las claves del diccionario, 3."
      ],
      "metadata": {
        "id": "TBFlRtMLQN4b"
      }
    },
    {
      "cell_type": "markdown",
      "source": [
        "20. ¿Qué resultado da?\n",
        "\n",
        "lista = [1, 2, 3]\n",
        "\n",
        "print(lista * 2)"
      ],
      "metadata": {
        "id": "aN9-umSrQctL"
      }
    },
    {
      "cell_type": "code",
      "source": [
        "lista = [1, 2, 3]\n",
        "print(lista * 2)"
      ],
      "metadata": {
        "colab": {
          "base_uri": "https://localhost:8080/"
        },
        "id": "TDkwOiElRHTH",
        "outputId": "a665d999-6864-48b8-ec42-6fd07f880a94"
      },
      "execution_count": 21,
      "outputs": [
        {
          "output_type": "stream",
          "name": "stdout",
          "text": [
            "[1, 2, 3, 1, 2, 3]\n"
          ]
        }
      ]
    },
    {
      "cell_type": "markdown",
      "source": [
        "R// A. Repite la lista."
      ],
      "metadata": {
        "id": "PpdGFQ_yRKDL"
      }
    },
    {
      "cell_type": "markdown",
      "source": [
        "21. ¿Qué ocurre?\n",
        "\n",
        "d = {\"a\": 1}\n",
        "\n",
        "d[\"a\"] = 100\n",
        "\n",
        "print(d)\n"
      ],
      "metadata": {
        "id": "qhqYtSpnRQ-5"
      }
    },
    {
      "cell_type": "code",
      "source": [
        "d = {\"a\": 1}\n",
        "d[\"a\"] = 100\n",
        "print(d)"
      ],
      "metadata": {
        "colab": {
          "base_uri": "https://localhost:8080/"
        },
        "id": "Kba0XG4qRV73",
        "outputId": "4a905da6-618f-4993-b26c-0e89a18b5242"
      },
      "execution_count": 22,
      "outputs": [
        {
          "output_type": "stream",
          "name": "stdout",
          "text": [
            "{'a': 100}\n"
          ]
        }
      ]
    },
    {
      "cell_type": "markdown",
      "source": [
        "R// B. La clave se sobreescribe."
      ],
      "metadata": {
        "id": "Ol214SEURfpU"
      }
    },
    {
      "cell_type": "markdown",
      "source": [
        "22. ¿Qué imprime?\n",
        "\n",
        "print(\"python\".upper())\n"
      ],
      "metadata": {
        "id": "-AL7m1aARpjQ"
      }
    },
    {
      "cell_type": "code",
      "source": [
        "print(\"python\".upper())"
      ],
      "metadata": {
        "colab": {
          "base_uri": "https://localhost:8080/"
        },
        "id": "8cZl9pcFR2Du",
        "outputId": "3f48ba93-f9a5-4937-a6b3-fd78803c4e88"
      },
      "execution_count": 23,
      "outputs": [
        {
          "output_type": "stream",
          "name": "stdout",
          "text": [
            "PYTHON\n"
          ]
        }
      ]
    },
    {
      "cell_type": "markdown",
      "source": [
        "R// A. Transcribe la palabra con mayusculas."
      ],
      "metadata": {
        "id": "IjQlntrHR4kW"
      }
    },
    {
      "cell_type": "markdown",
      "source": [
        "23. Completa el código para agregar el número 5 a un conjunto:\n",
        "\n",
        "s = {1, 2, 3}\n",
        "\n",
        "s.____(5)"
      ],
      "metadata": {
        "id": "QHkrvtHZR_B2"
      }
    },
    {
      "cell_type": "code",
      "source": [
        "s = {1, 2, 3}\n",
        "s.add(5)\n",
        "print(s)"
      ],
      "metadata": {
        "colab": {
          "base_uri": "https://localhost:8080/"
        },
        "id": "vvMtu8VjSNcS",
        "outputId": "0c6a1cb4-6647-409a-b58d-7470112eb85d"
      },
      "execution_count": 25,
      "outputs": [
        {
          "output_type": "stream",
          "name": "stdout",
          "text": [
            "{1, 2, 3, 5}\n"
          ]
        }
      ]
    },
    {
      "cell_type": "code",
      "source": [
        "R// A. Para los set se agrega con add."
      ],
      "metadata": {
        "id": "tQqH4SlPSW3x"
      },
      "execution_count": null,
      "outputs": []
    },
    {
      "cell_type": "markdown",
      "source": [
        "24. ¿Cuál es la salida?\n",
        "\n",
        "d = {\"x\": 10, \"y\": 20}\n",
        "\n",
        "print(\"x\" in d)"
      ],
      "metadata": {
        "id": "jnfi_whXSjuM"
      }
    },
    {
      "cell_type": "code",
      "source": [
        "d = {\"x\": 10, \"y\": 20}\n",
        "print(\"x\" in d)"
      ],
      "metadata": {
        "colab": {
          "base_uri": "https://localhost:8080/"
        },
        "id": "M9GMhC_eSrHO",
        "outputId": "1301d29d-93b6-4ac2-f740-f38f4579e2fc"
      },
      "execution_count": 26,
      "outputs": [
        {
          "output_type": "stream",
          "name": "stdout",
          "text": [
            "True\n"
          ]
        }
      ]
    },
    {
      "cell_type": "markdown",
      "source": [
        "R// B. Se cumple el supuesto."
      ],
      "metadata": {
        "id": "VWfnEJuLSuot"
      }
    },
    {
      "cell_type": "markdown",
      "source": [
        "25. ¿Qué imprime?\n",
        "\n",
        "print([1, 2, 3] == [1, 2, 3])"
      ],
      "metadata": {
        "id": "LXNNpJT4S4dN"
      }
    },
    {
      "cell_type": "code",
      "source": [
        "print([1,2,3]==[1,2,3])"
      ],
      "metadata": {
        "colab": {
          "base_uri": "https://localhost:8080/"
        },
        "id": "CHlNYMlCS7yN",
        "outputId": "7ccbfe23-5b8e-4962-b985-65b4d68b567c"
      },
      "execution_count": 27,
      "outputs": [
        {
          "output_type": "stream",
          "name": "stdout",
          "text": [
            "True\n"
          ]
        }
      ]
    },
    {
      "cell_type": "markdown",
      "source": [
        "R// B. Las listas son iguales y se cumple el supuesto."
      ],
      "metadata": {
        "id": "7afC7UK-TEz2"
      }
    },
    {
      "cell_type": "markdown",
      "source": [
        "26. for i in range(5):\n",
        "\n",
        " print(i)\n",
        "\n",
        "¿Qué se imprimirá en pantalla?"
      ],
      "metadata": {
        "id": "UFlmwzQiTJ9u"
      }
    },
    {
      "cell_type": "code",
      "source": [
        "for i in range(5):\n",
        "  print(i)"
      ],
      "metadata": {
        "colab": {
          "base_uri": "https://localhost:8080/"
        },
        "id": "0UTgqYnOTN6D",
        "outputId": "902ac813-0ae7-4b3b-ddc8-29967797df5a"
      },
      "execution_count": 28,
      "outputs": [
        {
          "output_type": "stream",
          "name": "stdout",
          "text": [
            "0\n",
            "1\n",
            "2\n",
            "3\n",
            "4\n"
          ]
        }
      ]
    },
    {
      "cell_type": "markdown",
      "source": [
        "R// C. Se genera un range de 0 a 4."
      ],
      "metadata": {
        "id": "TAGKw-mnTTtZ"
      }
    },
    {
      "cell_type": "markdown",
      "source": [
        "27. ¿Qué ocurre?\n",
        "\n",
        "s = {1, 2, 3}\n",
        "\n",
        "s.remove(4)"
      ],
      "metadata": {
        "id": "kaxXvtB5Ta17"
      }
    },
    {
      "cell_type": "code",
      "source": [
        "s = {1, 2, 3}\n",
        "s.remove(4)"
      ],
      "metadata": {
        "collapsed": true,
        "colab": {
          "base_uri": "https://localhost:8080/",
          "height": 159
        },
        "id": "uSps2TvnTfR8",
        "outputId": "05609899-9eeb-4802-aed6-13a9e8149335"
      },
      "execution_count": 29,
      "outputs": [
        {
          "output_type": "error",
          "ename": "KeyError",
          "evalue": "4",
          "traceback": [
            "\u001b[0;31m---------------------------------------------------------------------------\u001b[0m",
            "\u001b[0;31mKeyError\u001b[0m                                  Traceback (most recent call last)",
            "\u001b[0;32m/tmp/ipython-input-2445341231.py\u001b[0m in \u001b[0;36m<cell line: 0>\u001b[0;34m()\u001b[0m\n\u001b[1;32m      1\u001b[0m \u001b[0ms\u001b[0m \u001b[0;34m=\u001b[0m \u001b[0;34m{\u001b[0m\u001b[0;36m1\u001b[0m\u001b[0;34m,\u001b[0m \u001b[0;36m2\u001b[0m\u001b[0;34m,\u001b[0m \u001b[0;36m3\u001b[0m\u001b[0;34m}\u001b[0m\u001b[0;34m\u001b[0m\u001b[0;34m\u001b[0m\u001b[0m\n\u001b[0;32m----> 2\u001b[0;31m \u001b[0ms\u001b[0m\u001b[0;34m.\u001b[0m\u001b[0mremove\u001b[0m\u001b[0;34m(\u001b[0m\u001b[0;36m4\u001b[0m\u001b[0;34m)\u001b[0m\u001b[0;34m\u001b[0m\u001b[0;34m\u001b[0m\u001b[0m\n\u001b[0m",
            "\u001b[0;31mKeyError\u001b[0m: 4"
          ]
        }
      ]
    },
    {
      "cell_type": "markdown",
      "source": [
        "R// C. Lanza error porque el 4 no existe."
      ],
      "metadata": {
        "id": "qAH-9IH7TlC8"
      }
    },
    {
      "cell_type": "markdown",
      "source": [
        "28. Tienes el siguiente texto:\n",
        "\n",
        "texto = \"Colombia México Perú Chile\"\n",
        "\n",
        "paises = texto.split()\n",
        "\n",
        "¿Qué contendrá la variable paises?"
      ],
      "metadata": {
        "id": "-MiD7lQeTshv"
      }
    },
    {
      "cell_type": "code",
      "source": [
        "texto = \"Colombia México Perú Chile\"\n",
        "paises = texto.split()\n",
        "print(paises)"
      ],
      "metadata": {
        "colab": {
          "base_uri": "https://localhost:8080/"
        },
        "id": "uqJCk-2iTwZ3",
        "outputId": "42722365-fce8-48a3-a1f7-8286d6a96044"
      },
      "execution_count": 32,
      "outputs": [
        {
          "output_type": "stream",
          "name": "stdout",
          "text": [
            "['Colombia', 'México', 'Perú', 'Chile']\n"
          ]
        }
      ]
    },
    {
      "cell_type": "markdown",
      "source": [
        "R// B. Separa por comas."
      ],
      "metadata": {
        "id": "yNVYjAzAT4Eu"
      }
    },
    {
      "cell_type": "markdown",
      "source": [
        "29. ventas = \"1000;2500;3200;4500\"\n",
        "\n",
        "valores = ventas.split(\";\")\n",
        "\n",
        "¿Qué resultado produce valores?\n"
      ],
      "metadata": {
        "id": "FOi5ObEuUO2k"
      }
    },
    {
      "cell_type": "code",
      "source": [
        "ventas = \"1000;2500;3200;4500\"\n",
        "valores = ventas.split(\";\")\n",
        "print (valores)"
      ],
      "metadata": {
        "colab": {
          "base_uri": "https://localhost:8080/"
        },
        "id": "0Yh-RWhCUTId",
        "outputId": "59516b1f-f57d-4e0e-b0a2-56444d4eb7f7"
      },
      "execution_count": 34,
      "outputs": [
        {
          "output_type": "stream",
          "name": "stdout",
          "text": [
            "['1000', '2500', '3200', '4500']\n"
          ]
        }
      ]
    },
    {
      "cell_type": "markdown",
      "source": [
        "R// A. Separa por comas."
      ],
      "metadata": {
        "id": "ZRJ6YoJlUZkY"
      }
    },
    {
      "cell_type": "markdown",
      "source": [
        "30. palabras = [\"Economía\", \"Mercados\", \"Exportaciones\"]\n",
        "\n",
        "texto = \" - \".join(palabras)\n",
        "\n",
        "¿Cuál será el contenido de texto?\n"
      ],
      "metadata": {
        "id": "KvXiLCjdUpRs"
      }
    },
    {
      "cell_type": "code",
      "source": [
        "palabras = [\"Economía\", \"Mercados\", \"Exportaciones\"]\n",
        "texto = \" - \".join(palabras)\n",
        "print(texto)"
      ],
      "metadata": {
        "colab": {
          "base_uri": "https://localhost:8080/"
        },
        "id": "ahP6BijBUusc",
        "outputId": "895ee482-16c5-4049-bfe9-e3393c6697d5"
      },
      "execution_count": 36,
      "outputs": [
        {
          "output_type": "stream",
          "name": "stdout",
          "text": [
            "Economía - Mercados - Exportaciones\n"
          ]
        }
      ]
    },
    {
      "cell_type": "markdown",
      "source": [
        "R// B. Separa con -."
      ],
      "metadata": {
        "id": "-V63ZxfNU1dN"
      }
    },
    {
      "cell_type": "markdown",
      "source": [
        "31. empresas = [\"Amazon\", \"Google\", \"Microsoft\", \"Apple\"]\n",
        "\n",
        "empresas.sort()\n",
        "\n",
        "¿Qué contendrá empresas después de ejecutar el código?"
      ],
      "metadata": {
        "id": "A3Io_6vKU--1"
      }
    },
    {
      "cell_type": "code",
      "source": [
        "empresas = [\"Amazon\", \"Google\", \"Microsoft\", \"Apple\"]\n",
        "empresas.sort()\n",
        "print(empresas)"
      ],
      "metadata": {
        "colab": {
          "base_uri": "https://localhost:8080/"
        },
        "id": "0t7zE0WlVCyU",
        "outputId": "86350d18-be83-4ca2-9a51-6fd75adfd515"
      },
      "execution_count": 38,
      "outputs": [
        {
          "output_type": "stream",
          "name": "stdout",
          "text": [
            "['Amazon', 'Apple', 'Google', 'Microsoft']\n"
          ]
        }
      ]
    },
    {
      "cell_type": "markdown",
      "source": [
        "R// A. Organiza por orden alfabetico."
      ],
      "metadata": {
        "id": "Y9tC8OfGVGEo"
      }
    },
    {
      "cell_type": "markdown",
      "source": [
        "32. numeros = list(range(2, 10, 2))\n",
        "\n",
        "¿Qué contendrá la lista numeros?"
      ],
      "metadata": {
        "id": "tGlO_DOKVLbP"
      }
    },
    {
      "cell_type": "code",
      "source": [
        "numeros = list(range(2, 10, 2))\n",
        "print(numeros)"
      ],
      "metadata": {
        "colab": {
          "base_uri": "https://localhost:8080/"
        },
        "id": "ualom59eVPqX",
        "outputId": "763cf5b6-8504-489b-f49d-b938bd9314a9"
      },
      "execution_count": 41,
      "outputs": [
        {
          "output_type": "stream",
          "name": "stdout",
          "text": [
            "[2, 4, 6, 8]\n"
          ]
        }
      ]
    },
    {
      "cell_type": "markdown",
      "source": [
        "R// A. Excluye el 10 y va en secuencia de 2."
      ],
      "metadata": {
        "id": "Xr0mtxwXVZs4"
      }
    }
  ]
}